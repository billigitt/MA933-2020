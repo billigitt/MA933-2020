{
 "cells": [
  {
   "cell_type": "code",
   "execution_count": 1,
   "metadata": {},
   "outputs": [],
   "source": [
    "import numpy as np\n",
    "import matplotlib.pyplot as plt\n",
    "from scipy import linalg as lg\n",
    "import time\n",
    "import seaborn as sns\n",
    "import math"
   ]
  },
  {
   "cell_type": "code",
   "execution_count": 26,
   "metadata": {},
   "outputs": [
    {
     "name": "stdout",
     "output_type": "stream",
     "text": [
      "--- 0.14839982986450195 seconds ---\n",
      "101\n"
     ]
    }
   ],
   "source": [
    "#parameters \n",
    "p = 0.7\n",
    "q = 1 - p\n",
    "L = 10\n",
    "\n",
    "N_sim = 500\n",
    "tmax = 100\n",
    "sum_x = 1 #initial starting place\n",
    "y_0 = 0\n",
    "Y = [y_0]\n",
    "# %matplotlib notebook\n",
    "\n",
    "start_time = time.time()\n",
    "\n",
    "# fig = plt.figure(figsize = (10,4))\n",
    "# ax = fig.add_subplot(111)\n",
    "\n",
    "# plt.ion\n",
    "# plt.title('Simple Random Walk')\n",
    "\n",
    "# fig.show()\n",
    "# fig.canvas.draw()\n",
    "Y = np.ones((N_sim, tmax+1))\n",
    "for i in range(0, N_sim):\n",
    "    t = 0\n",
    "    while t < tmax:\n",
    "        r = np.random.rand()\n",
    "        if r<p:\n",
    "            x = math.ceil((L-Y[i,t])/L)\n",
    "        else:\n",
    "            x = math.floor((1-Y[i,t])/L)\n",
    "        Y[i, t+1] = Y[i,t] + x\n",
    "\n",
    "#         ax.clear()\n",
    "#         ax.plot(time_plot, Y)\n",
    "        t +=1\n",
    "#         Y.append(sum_x)\n",
    "#         time_plot.append(t)\n",
    "#         fig.canvas.draw()\n",
    "#         plt.xlabel('Time')\n",
    "#         plt.ylabel('state')\n",
    "#         plt.tight_layout()\n",
    "    \n",
    "print(\"--- %s seconds ---\" % (time.time() - start_time))\n",
    "print(len(Y[0]))"
   ]
  },
  {
   "cell_type": "code",
   "execution_count": 27,
   "metadata": {},
   "outputs": [
    {
     "data": {
      "text/plain": [
       "(array([  1.,   0.,   2.,   5.,   7.,  11.,  23.,  67., 111., 273.]),\n",
       " array([ 1. ,  1.9,  2.8,  3.7,  4.6,  5.5,  6.4,  7.3,  8.2,  9.1, 10. ]),\n",
       " <a list of 10 Patch objects>)"
      ]
     },
     "execution_count": 27,
     "metadata": {},
     "output_type": "execute_result"
    },
    {
     "data": {
      "image/png": "[encoded data removed]",
      "text/plain": [
       "<Figure size 1440x576 with 2 Axes>"
      ]
     },
     "metadata": {
      "needs_background": "light"
     },
     "output_type": "display_data"
    }
   ],
   "source": [
    "plt.figure(figsize = (20,8))\n",
    "plt.subplot(1,2,1)\n",
    "plt.hist(Y[:,9])\n",
    "# sns.distplot(SS[1][:,9],bins = 15, kde = False)\n",
    "plt.title('Empirical Distribution at time step n = 10')\n",
    "\n",
    "plt.subplot(1,2,2)\n",
    "plt.title('Empirical Distribution at time step n = 100')\n",
    "# sns.distplot(SS[1][:,99],bins = len(np.unique(SS[1][:,99])))\n",
    "plt.hist(Y[:,99])"
   ]
  },
  {
   "cell_type": "code",
   "execution_count": 11,
   "metadata": {},
   "outputs": [
    {
     "data": {
      "text/plain": [
       "1"
      ]
     },
     "execution_count": 11,
     "metadata": {},
     "output_type": "execute_result"
    }
   ],
   "source": [
    "A = np.eye(4)\n",
    "A[3,3] = 4\n",
    "np.count_nonzero(A==4)"
   ]
  },
  {
   "cell_type": "code",
   "execution_count": null,
   "metadata": {},
   "outputs": [],
   "source": [
    "hist50 = np.zeros(10)\n",
    "for i in range(1,11):\n",
    "    hist_50 = np.count_nonzero(Y == i)"
   ]
  },
  {
   "cell_type": "code",
   "execution_count": 23,
   "metadata": {},
   "outputs": [],
   "source": [
    "A = range(1,11)"
   ]
  },
  {
   "cell_type": "code",
   "execution_count": 19,
   "metadata": {},
   "outputs": [
    {
     "data": {
      "text/plain": [
       "5"
      ]
     },
     "execution_count": 19,
     "metadata": {},
     "output_type": "execute_result"
    }
   ],
   "source": [
    "A[4]"
   ]
  },
  {
   "cell_type": "code",
   "execution_count": 20,
   "metadata": {},
   "outputs": [
    {
     "data": {
      "text/plain": [
       "1"
      ]
     },
     "execution_count": 20,
     "metadata": {},
     "output_type": "execute_result"
    }
   ],
   "source": [
    "A[0]"
   ]
  },
  {
   "cell_type": "code",
   "execution_count": 24,
   "metadata": {},
   "outputs": [
    {
     "data": {
      "text/plain": [
       "10"
      ]
     },
     "execution_count": 24,
     "metadata": {},
     "output_type": "execute_result"
    }
   ],
   "source": [
    "A[-1]"
   ]
  },
  {
   "cell_type": "code",
   "execution_count": 71,
   "metadata": {
    "scrolled": true
   },
   "outputs": [
    {
     "name": "stdout",
     "output_type": "stream",
     "text": [
      "--- 0.0006949901580810547 seconds ---\n",
      "[[ 1.  2.  3.  4.  5.  6.  7.  8.  9. 10. 10. 10. 10. 10. 10. 10. 10.  9.\n",
      "  10. 10.  9. 10. 10.  9.  8.  7.  6.  7.  6.  7.  8.  9. 10. 10. 10. 10.\n",
      "  10. 10. 10. 10.  9. 10. 10.  9. 10. 10.  9. 10. 10. 10.  9.]]\n"
     ]
    }
   ],
   "source": [
    "#parameters \n",
    "p = 0.7\n",
    "q = 1 - p\n",
    "L = 10\n",
    "\n",
    "N_sim = 1\n",
    "tmax = 50\n",
    "sum_x = 1 #initial starting place\n",
    "y_0 = 0\n",
    "Y = [y_0]\n",
    "# %matplotlib notebook\n",
    "\n",
    "start_time = time.time()\n",
    "\n",
    "# fig = plt.figure(figsize = (10,4))\n",
    "# ax = fig.add_subplot(111)\n",
    "\n",
    "# plt.ion\n",
    "# plt.title('Simple Random Walk')\n",
    "\n",
    "# fig.show()\n",
    "# fig.canvas.draw()\n",
    "Y = np.ones((N_sim, tmax+1))\n",
    "for i in range(0, N_sim):\n",
    "    t = 0\n",
    "    while t < tmax:\n",
    "        r = np.random.rand()\n",
    "        if r<p:\n",
    "            x = math.ceil((L-Y[i,t])/L)\n",
    "        else:\n",
    "            x = math.floor((1-Y[i,t])/L)\n",
    "        Y[i, t+1] = Y[i,t] + x\n",
    "\n",
    "#         ax.clear()\n",
    "#         ax.plot(time_plot, Y)\n",
    "        t +=1\n",
    "#         Y.append(sum_x)\n",
    "#         time_plot.append(t)\n",
    "#         fig.canvas.draw()\n",
    "#         plt.xlabel('Time')\n",
    "#         plt.ylabel('state')\n",
    "#         plt.tight_layout()\n",
    "    \n",
    "print(\"--- %s seconds ---\" % (time.time() - start_time))\n",
    "print(Y)\n"
   ]
  },
  {
   "cell_type": "code",
   "execution_count": 34,
   "metadata": {
    "scrolled": true
   },
   "outputs": [
    {
     "ename": "NameError",
     "evalue": "name 'Int64' is not defined",
     "output_type": "error",
     "traceback": [
      "\u001b[0;31m---------------------------------------------------------------------------\u001b[0m",
      "\u001b[0;31mNameError\u001b[0m                                 Traceback (most recent call last)",
      "\u001b[0;32m<ipython-input-34-a026dd9a2424>\u001b[0m in \u001b[0;36m<module>\u001b[0;34m\u001b[0m\n\u001b[0;32m----> 1\u001b[0;31m \u001b[0mInt64\u001b[0m\u001b[0;34m(\u001b[0m\u001b[0mY\u001b[0m\u001b[0;34m)\u001b[0m\u001b[0;34m\u001b[0m\u001b[0;34m\u001b[0m\u001b[0m\n\u001b[0m",
      "\u001b[0;31mNameError\u001b[0m: name 'Int64' is not defined"
     ]
    }
   ],
   "source": [
    "Int64(Y)"
   ]
  },
  {
   "cell_type": "code",
   "execution_count": 35,
   "metadata": {},
   "outputs": [
    {
     "data": {
      "text/plain": [
       "1.0"
      ]
     },
     "execution_count": 35,
     "metadata": {},
     "output_type": "execute_result"
    }
   ],
   "source": [
    "float(1)"
   ]
  },
  {
   "cell_type": "code",
   "execution_count": 64,
   "metadata": {
    "scrolled": false
   },
   "outputs": [
    {
     "name": "stdout",
     "output_type": "stream",
     "text": [
      "[0. 0. 0. 0. 0. 0. 0. 0. 0. 0.]\n",
      "1\n",
      "2\n",
      "3\n",
      "4\n",
      "5\n",
      "6\n",
      "7\n",
      "8\n",
      "9\n",
      "10\n"
     ]
    }
   ],
   "source": [
    "hist_50 = np.zeros(10)\n",
    "print(hist_50)\n",
    "for i in range(1,11):\n",
    "    hist_50[i-1] = np.count_nonzero(Y == i)"
   ]
  },
  {
   "cell_type": "code",
   "execution_count": 65,
   "metadata": {},
   "outputs": [
    {
     "data": {
      "text/plain": [
       "array([ 1.,  3.,  4.,  3.,  4.,  7.,  8.,  5.,  6., 10.])"
      ]
     },
     "execution_count": 65,
     "metadata": {},
     "output_type": "execute_result"
    }
   ],
   "source": [
    "hist_50"
   ]
  },
  {
   "cell_type": "code",
   "execution_count": 40,
   "metadata": {},
   "outputs": [
    {
     "data": {
      "text/plain": [
       "array([[ 1.,  2.,  1.,  2.,  3.,  2.,  1.,  2.,  3.,  4.,  5.,  4.,  3.,\n",
       "         4.,  5.,  6.,  5.,  6.,  7.,  8.,  9., 10.,  9., 10., 10., 10.,\n",
       "        10.,  9., 10.,  9., 10., 10.,  9.,  8.,  9., 10., 10.,  9., 10.,\n",
       "        10.,  9., 10., 10.,  9., 10., 10., 10., 10., 10., 10., 10.]])"
      ]
     },
     "execution_count": 40,
     "metadata": {},
     "output_type": "execute_result"
    }
   ],
   "source": [
    "Y"
   ]
  },
  {
   "cell_type": "code",
   "execution_count": 39,
   "metadata": {},
   "outputs": [
    {
     "data": {
      "text/plain": [
       "3"
      ]
     },
     "execution_count": 39,
     "metadata": {},
     "output_type": "execute_result"
    }
   ],
   "source": [
    "np.count_nonzero(Y == 4)"
   ]
  },
  {
   "cell_type": "code",
   "execution_count": 81,
   "metadata": {},
   "outputs": [
    {
     "name": "stdout",
     "output_type": "stream",
     "text": [
      "--- 1004.5001001358032 seconds ---\n",
      "[[ 1.  1.  2.  3.  2.  3.  4.  5.  6.  5.  6.  7.  6.  7.  8.  9. 10. 10.\n",
      "  10.  9.  8.  9.  8.  9. 10.  9.  8.  9. 10.  9.  8.  9.  8.  9. 10. 10.\n",
      "  10. 10.  9. 10.  9. 10. 10. 10. 10.  9.  8.  7.  8.  9. 10. 10. 10.  9.\n",
      "  10. 10.  9. 10.  9. 10. 10.  9. 10. 10. 10.  9.  8.  9. 10.  9. 10. 10.\n",
      "  10.  9. 10. 10. 10.  9. 10. 10. 10. 10.  9. 10.  9. 10. 10. 10. 10. 10.\n",
      "  10.  9. 10. 10. 10. 10. 10. 10. 10. 10. 10. 10.  9.  8.  9. 10.  9. 10.\n",
      "  10. 10.  9.  8.  7.  8.  7.  8.  9. 10. 10.  9. 10. 10.  9. 10.  9.  8.\n",
      "   9. 10. 10.  9. 10. 10. 10. 10. 10.  9.  8.  9. 10. 10.  9. 10. 10.  9.\n",
      "  10. 10. 10.  9.  8.  7.  6.  7.  8.  7.  8.  7.  8.  9. 10. 10. 10. 10.\n",
      "   9. 10. 10. 10.  9.  8.  9.  8.  9.  8.  9. 10.  9. 10.  9. 10.  9. 10.\n",
      "   9.  8.  7.  8.  9. 10. 10. 10.  9.  8.  7.  8.  9. 10. 10. 10. 10.  9.\n",
      "  10. 10. 10. 10.  9. 10. 10.  9. 10. 10.  9. 10. 10. 10. 10.  9. 10. 10.\n",
      "  10. 10.  9.  8.  9.  8.  9. 10.  9.  8.  9.  8.  9.  8.  7.  6.  7.  8.\n",
      "   7.  8.  9. 10.  9. 10. 10.  9. 10. 10.  9. 10. 10.  9. 10.  9.  8.  7.\n",
      "   8.  9. 10. 10. 10. 10.  9.  8.  7.  8.  7.  8.  9. 10. 10. 10. 10.  9.\n",
      "  10.  9. 10. 10.  9. 10. 10. 10. 10. 10. 10. 10. 10. 10. 10. 10. 10. 10.\n",
      "  10. 10. 10. 10.  9.  8.  9. 10. 10. 10.  9.  8.  9. 10. 10. 10. 10. 10.\n",
      "   9. 10. 10. 10. 10. 10. 10. 10. 10.  9. 10. 10. 10.  9. 10.  9.  8.  7.\n",
      "   8.  9. 10.  9.  8.  9. 10. 10. 10.  9. 10. 10. 10.  9.  8.  9. 10. 10.\n",
      "  10.  9. 10. 10.  9. 10. 10.  9. 10. 10. 10. 10. 10. 10. 10. 10.  9. 10.\n",
      "   9. 10.  9.  8.  9. 10. 10. 10.  9.  8.  9.  8.  9. 10. 10. 10.  9. 10.\n",
      "  10. 10. 10. 10. 10. 10. 10.  9. 10.  9.  8.  9. 10.  9. 10. 10. 10. 10.\n",
      "  10. 10. 10.  9. 10.  9. 10. 10. 10.  9. 10. 10. 10. 10.  9.  8.  9. 10.\n",
      "  10. 10. 10.  9. 10. 10. 10. 10. 10. 10.  9. 10. 10. 10. 10. 10.  9. 10.\n",
      "  10.  9. 10.  9. 10. 10. 10. 10. 10. 10.  9. 10. 10.  9. 10.  9. 10. 10.\n",
      "   9. 10. 10. 10. 10. 10.  9. 10. 10.  9.  8.  7.  8.  9.  8.  9. 10. 10.\n",
      "   9.  8.  7.  6.  5.  6.  7.  6.  7.  8.  9. 10. 10. 10. 10.  9. 10.  9.\n",
      "  10. 10. 10. 10. 10. 10.  9.  8.  9. 10.  9.  8.  9. 10. 10.]]\n"
     ]
    }
   ],
   "source": [
    "#parameters \n",
    "p = 0.7\n",
    "q = 1 - p\n",
    "L = 10\n",
    "\n",
    "N_sim = 1\n",
    "tmax = 500\n",
    "init = 1\n",
    "\n",
    "Y = np.ones((N_sim, tmax+1))*init\n",
    "for i in range(0, N_sim):\n",
    "    t = 0\n",
    "    while t < tmax:\n",
    "        r = np.random.rand()\n",
    "        if r<p:\n",
    "            x = math.ceil((L-Y[i,t])/L)\n",
    "        else:\n",
    "            x = math.floor((1-Y[i,t])/L)\n",
    "        Y[i, t+1] = Y[i,t] + x\n",
    "\n",
    "#         ax.clear()\n",
    "#         ax.plot(time_plot, Y)\n",
    "        t +=1\n",
    "#         Y.append(sum_x)\n",
    "#         time_plot.append(t)\n",
    "#         fig.canvas.draw()\n",
    "#         plt.xlabel('Time')\n",
    "#         plt.ylabel('state')\n",
    "#         plt.tight_layout()\n",
    "    \n",
    "print(\"--- %s seconds ---\" % (time.time() - start_time))\n",
    "print(Y)\n"
   ]
  },
  {
   "cell_type": "code",
   "execution_count": 80,
   "metadata": {},
   "outputs": [],
   "source": [
    "# hist_500 = np.zeros(10)\n",
    "# print(hist_500)\n",
    "# for i in range(1,11):\n",
    "#     hist_500[i-1] = np.count_nonzero(Y == i)\n",
    "\n",
    "# print(hist_500)"
   ]
  },
  {
   "cell_type": "code",
   "execution_count": 77,
   "metadata": {},
   "outputs": [
    {
     "data": {
      "text/plain": [
       "(array([7., 1., 0., 1., 0., 0., 0., 0., 0., 1.]),\n",
       " array([  1. ,  29.6,  58.2,  86.8, 115.4, 144. , 172.6, 201.2, 229.8,\n",
       "        258.4, 287. ]),\n",
       " <a list of 10 Patch objects>)"
      ]
     },
     "execution_count": 77,
     "metadata": {},
     "output_type": "execute_result"
    },
    {
     "data": {
      "image/png": "[encoded data removed]",
      "text/plain": [
       "<Figure size 1440x576 with 2 Axes>"
      ]
     },
     "metadata": {
      "needs_background": "light"
     },
     "output_type": "display_data"
    }
   ],
   "source": [
    "plt.figure(figsize = (20,8))\n",
    "plt.subplot(1,2,1)\n",
    "plt.hist(hist_50)\n",
    "# sns.distplot(SS[1][:,9],bins = 15, kde = False)\n",
    "plt.title('Empirical Distribution at time step n = 10')\n",
    "\n",
    "plt.subplot(1,2,2)\n",
    "plt.title('Empirical Distribution at time step n = 100')\n",
    "# sns.distplot(SS[1][:,99],bins = len(np.unique(SS[1][:,99])))\n",
    "plt.hist(hist_500)"
   ]
  },
  {
   "cell_type": "code",
   "execution_count": 82,
   "metadata": {},
   "outputs": [
    {
     "ename": "SyntaxError",
     "evalue": "invalid syntax (functions.py, line 1)",
     "output_type": "error",
     "traceback": [
      "Traceback \u001b[0;36m(most recent call last)\u001b[0m:\n",
      "  File \u001b[1;32m\"/Users/Zak/opt/anaconda3/lib/python3.8/site-packages/IPython/core/interactiveshell.py\"\u001b[0m, line \u001b[1;32m3343\u001b[0m, in \u001b[1;35mrun_code\u001b[0m\n    exec(code_obj, self.user_global_ns, self.user_ns)\n",
      "\u001b[0;36m  File \u001b[0;32m\"<ipython-input-82-01a49f1064bc>\"\u001b[0;36m, line \u001b[0;32m1\u001b[0;36m, in \u001b[0;35m<module>\u001b[0;36m\u001b[0m\n\u001b[0;31m    import functions\u001b[0m\n",
      "\u001b[0;36m  File \u001b[0;32m\"/Users/Zak/MathSysMSc/MA933_SMARP/MA933-2019/Assessments/functions.py\"\u001b[0;36m, line \u001b[0;32m1\u001b[0m\n\u001b[0;31m    def SRW(p, L, N_sim, tmax, init)\u001b[0m\n\u001b[0m                                    ^\u001b[0m\n\u001b[0;31mSyntaxError\u001b[0m\u001b[0;31m:\u001b[0m invalid syntax\n"
     ]
    }
   ],
   "source": [
    "import functions"
   ]
  },
  {
   "cell_type": "code",
   "execution_count": 83,
   "metadata": {},
   "outputs": [
    {
     "ename": "NameError",
     "evalue": "name 'function' is not defined",
     "output_type": "error",
     "traceback": [
      "\u001b[0;31m---------------------------------------------------------------------------\u001b[0m",
      "\u001b[0;31mNameError\u001b[0m                                 Traceback (most recent call last)",
      "\u001b[0;32m<ipython-input-83-b234e4b23273>\u001b[0m in \u001b[0;36m<module>\u001b[0;34m\u001b[0m\n\u001b[0;32m----> 1\u001b[0;31m \u001b[0mfunction\u001b[0m\u001b[0;34m.\u001b[0m\u001b[0mSRW\u001b[0m\u001b[0;34m(\u001b[0m\u001b[0;34m)\u001b[0m\u001b[0;34m\u001b[0m\u001b[0;34m\u001b[0m\u001b[0m\n\u001b[0m",
      "\u001b[0;31mNameError\u001b[0m: name 'function' is not defined"
     ]
    }
   ],
   "source": [
    "function.SRW()"
   ]
  },
  {
   "cell_type": "code",
   "execution_count": null,
   "metadata": {},
   "outputs": [],
   "source": []
  }
 ],
 "metadata": {
  "kernelspec": {
   "display_name": "Python 3",
   "language": "python",
   "name": "python3"
  },
  "language_info": {
   "codemirror_mode": {
    "name": "ipython",
    "version": 3
   },
   "file_extension": ".py",
   "mimetype": "text/x-python",
   "name": "python",
   "nbconvert_exporter": "python",
   "pygments_lexer": "ipython3",
   "version": "3.8.3"
  }
 },
 "nbformat": 4,
 "nbformat_minor": 4
}
