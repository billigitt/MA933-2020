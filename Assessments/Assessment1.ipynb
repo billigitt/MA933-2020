{
 "cells": [
  {
   "cell_type": "code",
   "execution_count": 59,
   "metadata": {},
   "outputs": [],
   "source": [
    "import numpy as np\n",
    "import matplotlib.pyplot as plt\n",
    "from scipy import linalg as lg\n",
    "from scipy import stats\n",
    "import time\n",
    "import seaborn as sns\n",
    "import math"
   ]
  },
  {
   "cell_type": "code",
   "execution_count": 2,
   "metadata": {
    "scrolled": true
   },
   "outputs": [],
   "source": [
    "import functions"
   ]
  },
  {
   "cell_type": "code",
   "execution_count": 4,
   "metadata": {},
   "outputs": [],
   "source": [
    "def SRW(p, L, N_sim, tmax, init):\n",
    "    Y = np.ones((N_sim, tmax+1))*init\n",
    "    for i in range(0, N_sim):\n",
    "        t = 0\n",
    "        while t < tmax:\n",
    "            r = np.random.rand()\n",
    "            if r<p:\n",
    "                x = math.ceil((L-Y[i,t])/L)\n",
    "            else:\n",
    "                x = math.floor((1-Y[i,t])/L)\n",
    "            Y[i, t+1] = Y[i,t] + x\n",
    "            t +=1    \n",
    "    return Y"
   ]
  },
  {
   "cell_type": "code",
   "execution_count": 7,
   "metadata": {},
   "outputs": [],
   "source": [
    "Y_500 = SRW(0.7,10,500,100,1)"
   ]
  },
  {
   "cell_type": "code",
   "execution_count": 26,
   "metadata": {},
   "outputs": [
    {
     "name": "stdout",
     "output_type": "stream",
     "text": [
      "--- 0.14839982986450195 seconds ---\n",
      "101\n"
     ]
    }
   ],
   "source": [
    "# #parameters \n",
    "# p = 0.7\n",
    "# q = 1 - p\n",
    "# L = 10\n",
    "\n",
    "# N_sim = 500\n",
    "# tmax = 100\n",
    "# sum_x = 1 #initial starting place\n",
    "# y_0 = 0\n",
    "# Y = [y_0]\n",
    "# # %matplotlib notebook\n",
    "\n",
    "# start_time = time.time()\n",
    "\n",
    "# # fig = plt.figure(figsize = (10,4))\n",
    "# # ax = fig.add_subplot(111)\n",
    "\n",
    "# # plt.ion\n",
    "# # plt.title('Simple Random Walk')\n",
    "\n",
    "# # fig.show()\n",
    "# # fig.canvas.draw()\n",
    "# Y = np.ones((N_sim, tmax+1))\n",
    "# for i in range(0, N_sim):\n",
    "#     t = 0\n",
    "#     while t < tmax:\n",
    "#         r = np.random.rand()\n",
    "#         if r<p:\n",
    "#             x = math.ceil((L-Y[i,t])/L)\n",
    "#         else:\n",
    "#             x = math.floor((1-Y[i,t])/L)\n",
    "#         Y[i, t+1] = Y[i,t] + x\n",
    "\n",
    "# #         ax.clear()\n",
    "# #         ax.plot(time_plot, Y)\n",
    "#         t +=1\n",
    "# #         Y.append(sum_x)\n",
    "# #         time_plot.append(t)\n",
    "# #         fig.canvas.draw()\n",
    "# #         plt.xlabel('Time')\n",
    "# #         plt.ylabel('state')\n",
    "# #         plt.tight_layout()\n",
    "    \n",
    "# print(\"--- %s seconds ---\" % (time.time() - start_time))\n",
    "# print(len(Y[0]))"
   ]
  },
  {
   "cell_type": "code",
   "execution_count": 9,
   "metadata": {},
   "outputs": [
    {
     "data": {
      "text/plain": [
       "(array([  1.,   2.,   2.,   0.,  13.,  16.,   0.,  54., 121., 291.]),\n",
       " array([ 3. ,  3.7,  4.4,  5.1,  5.8,  6.5,  7.2,  7.9,  8.6,  9.3, 10. ]),\n",
       " <a list of 10 Patch objects>)"
      ]
     },
     "execution_count": 9,
     "metadata": {},
     "output_type": "execute_result"
    },
    {
     "data": {
      "image/png": "[encoded data removed]",
      "text/plain": [
       "<Figure size 1440x576 with 2 Axes>"
      ]
     },
     "metadata": {
      "needs_background": "light"
     },
     "output_type": "display_data"
    }
   ],
   "source": [
    "plt.figure(figsize = (20,8))\n",
    "plt.subplot(1,2,1)\n",
    "plt.hist(Y_500[:,9])\n",
    "# sns.distplot(SS[1][:,9],bins = 15, kde = False)\n",
    "plt.title('Empirical Distribution at time step n = 10')\n",
    "\n",
    "plt.subplot(1,2,2)\n",
    "plt.title('Empirical Distribution at time step n = 100')\n",
    "# sns.distplot(SS[1][:,99],bins = len(np.unique(SS[1][:,99])))\n",
    "plt.hist(Y_500[:,99])\n"
   ]
  },
  {
   "cell_type": "code",
   "execution_count": 14,
   "metadata": {},
   "outputs": [
    {
     "data": {
      "text/plain": [
       "array([10., 10., 10.,  8.,  8., 10., 10.,  9.,  9.,  9.,  9., 10., 10.,\n",
       "       10.,  9.,  8., 10., 10., 10., 10.,  6., 10., 10., 10., 10., 10.,\n",
       "       10.,  9.,  8., 10., 10., 10., 10., 10., 10., 10., 10., 10.,  9.,\n",
       "        9.,  9., 10.,  8.,  9., 10., 10.,  9., 10., 10.,  8., 10., 10.,\n",
       "        7.,  7.,  8.,  8.,  9.,  8., 10.,  9.,  9., 10., 10.,  9., 10.,\n",
       "       10.,  9., 10.,  9., 10., 10., 10., 10.,  9., 10.,  8., 10., 10.,\n",
       "        9., 10., 10., 10.,  7., 10., 10.,  3., 10., 10.,  9.,  9.,  9.,\n",
       "       10., 10.,  9., 10.,  9., 10., 10.,  9., 10., 10.,  8.,  9., 10.,\n",
       "       10., 10.,  9.,  7., 10., 10.,  9., 10.,  9., 10., 10., 10.,  8.,\n",
       "       10., 10.,  9., 10., 10.,  9.,  9.,  8.,  9., 10., 10., 10.,  5.,\n",
       "       10., 10.,  4., 10., 10., 10., 10.,  8., 10.,  9., 10.,  9., 10.,\n",
       "       10., 10., 10., 10., 10., 10.,  7.,  7.,  9., 10., 10.,  9.,  9.,\n",
       "       10., 10.,  8.,  8., 10., 10., 10., 10., 10.,  9.,  9., 10.,  9.,\n",
       "        9.,  8., 10., 10.,  7., 10.,  9.,  8., 10.,  9., 10.,  6., 10.,\n",
       "        9.,  9., 10.,  6.,  9.,  8.,  9., 10., 10., 10.,  8., 10., 10.,\n",
       "       10.,  6., 10., 10., 10., 10., 10.,  6., 10.,  8.,  8.,  9.,  8.,\n",
       "       10.,  9.,  9., 10.,  9., 10., 10., 10.,  9., 10.,  8., 10., 10.,\n",
       "       10., 10.,  8., 10., 10., 10., 10., 10., 10.,  9., 10., 10., 10.,\n",
       "       10., 10.,  9.,  9.,  9.,  8., 10., 10.,  8.,  7., 10., 10.,  8.,\n",
       "       10., 10., 10., 10., 10.,  8.,  8., 10., 10., 10., 10., 10.,  9.,\n",
       "        6., 10.,  8.,  6., 10., 10., 10.,  9.,  9., 10.,  9.,  7.,  9.,\n",
       "        8., 10., 10.,  5.,  8.,  9., 10., 10.,  7., 10.,  9., 10., 10.,\n",
       "        6.,  9., 10., 10.,  9., 10.,  8., 10., 10.,  9., 10.,  9., 10.,\n",
       "        8.,  6., 10., 10.,  7.,  9., 10., 10., 10., 10.,  6., 10.,  8.,\n",
       "       10.,  9., 10.,  9., 10., 10., 10., 10.,  9., 10., 10.,  6.,  7.,\n",
       "        9., 10.,  8., 10.,  9.,  9., 10.,  9., 10.,  6.,  9.,  8., 10.,\n",
       "       10., 10.,  9.,  9.,  9., 10.,  9., 10., 10., 10.,  9.,  9.,  9.,\n",
       "        9., 10., 10.,  7.,  9., 10.,  9.,  8., 10., 10., 10., 10.,  9.,\n",
       "        9.,  9.,  9., 10., 10., 10., 10., 10., 10.,  9., 10., 10., 10.,\n",
       "       10., 10., 10., 10.,  8., 10., 10., 10.,  9., 10., 10.,  8., 10.,\n",
       "       10., 10., 10., 10., 10.,  8.,  9.,  9., 10.,  8., 10.,  8.,  9.,\n",
       "       10.,  9., 10.,  9., 10., 10., 10., 10.,  6., 10., 10., 10.,  8.,\n",
       "       10.,  9., 10., 10., 10., 10., 10., 10.,  9.,  9., 10.,  9., 10.,\n",
       "        8., 10., 10.,  4.,  7., 10., 10.,  9., 10.,  9., 10.,  9., 10.,\n",
       "       10.,  8.,  8., 10., 10., 10., 10.,  9.,  9.,  9., 10., 10.,  8.,\n",
       "       10., 10., 10., 10.,  9., 10., 10., 10.,  8., 10., 10., 10., 10.,\n",
       "       10.,  7., 10., 10.,  9., 10.,  9.,  9., 10., 10., 10.,  7., 10.,\n",
       "       10.,  9.,  8.,  9., 10.,  8.,  9.,  8., 10., 10., 10.,  9.,  8.,\n",
       "        9., 10.,  9.,  9.,  9.,  9.])"
      ]
     },
     "execution_count": 14,
     "metadata": {},
     "output_type": "execute_result"
    }
   ],
   "source": [
    "Y_500[:,99]\n"
   ]
  },
  {
   "cell_type": "code",
   "execution_count": 71,
   "metadata": {
    "scrolled": true
   },
   "outputs": [
    {
     "name": "stdout",
     "output_type": "stream",
     "text": [
      "--- 0.0006949901580810547 seconds ---\n",
      "[[ 1.  2.  3.  4.  5.  6.  7.  8.  9. 10. 10. 10. 10. 10. 10. 10. 10.  9.\n",
      "  10. 10.  9. 10. 10.  9.  8.  7.  6.  7.  6.  7.  8.  9. 10. 10. 10. 10.\n",
      "  10. 10. 10. 10.  9. 10. 10.  9. 10. 10.  9. 10. 10. 10.  9.]]\n"
     ]
    }
   ],
   "source": [
    "# #parameters \n",
    "# p = 0.7\n",
    "# q = 1 - p\n",
    "# L = 10\n",
    "\n",
    "# N_sim = 1\n",
    "# tmax = 50\n",
    "# sum_x = 1 #initial starting place\n",
    "# y_0 = 0\n",
    "# Y = [y_0]\n",
    "# # %matplotlib notebook\n",
    "\n",
    "# start_time = time.time()\n",
    "\n",
    "# # fig = plt.figure(figsize = (10,4))\n",
    "# # ax = fig.add_subplot(111)\n",
    "\n",
    "# # plt.ion\n",
    "# # plt.title('Simple Random Walk')\n",
    "\n",
    "# # fig.show()\n",
    "# # fig.canvas.draw()\n",
    "# Y = np.ones((N_sim, tmax+1))\n",
    "# for i in range(0, N_sim):\n",
    "#     t = 0\n",
    "#     while t < tmax:\n",
    "#         r = np.random.rand()\n",
    "#         if r<p:\n",
    "#             x = math.ceil((L-Y[i,t])/L)\n",
    "#         else:\n",
    "#             x = math.floor((1-Y[i,t])/L)\n",
    "#         Y[i, t+1] = Y[i,t] + x\n",
    "\n",
    "# #         ax.clear()\n",
    "# #         ax.plot(time_plot, Y)\n",
    "#         t +=1\n",
    "# #         Y.append(sum_x)\n",
    "# #         time_plot.append(t)\n",
    "# #         fig.canvas.draw()\n",
    "# #         plt.xlabel('Time')\n",
    "# #         plt.ylabel('state')\n",
    "# #         plt.tight_layout()\n",
    "    \n",
    "# print(\"--- %s seconds ---\" % (time.time() - start_time))\n",
    "# print(Y)\n"
   ]
  },
  {
   "cell_type": "code",
   "execution_count": 34,
   "metadata": {
    "scrolled": true
   },
   "outputs": [
    {
     "ename": "NameError",
     "evalue": "name 'Int64' is not defined",
     "output_type": "error",
     "traceback": [
      "\u001b[0;31m---------------------------------------------------------------------------\u001b[0m",
      "\u001b[0;31mNameError\u001b[0m                                 Traceback (most recent call last)",
      "\u001b[0;32m<ipython-input-34-a026dd9a2424>\u001b[0m in \u001b[0;36m<module>\u001b[0;34m\u001b[0m\n\u001b[0;32m----> 1\u001b[0;31m \u001b[0mInt64\u001b[0m\u001b[0;34m(\u001b[0m\u001b[0mY\u001b[0m\u001b[0;34m)\u001b[0m\u001b[0;34m\u001b[0m\u001b[0;34m\u001b[0m\u001b[0m\n\u001b[0m",
      "\u001b[0;31mNameError\u001b[0m: name 'Int64' is not defined"
     ]
    }
   ],
   "source": [
    "Int64(Y)"
   ]
  },
  {
   "cell_type": "code",
   "execution_count": 35,
   "metadata": {},
   "outputs": [
    {
     "data": {
      "text/plain": [
       "1.0"
      ]
     },
     "execution_count": 35,
     "metadata": {},
     "output_type": "execute_result"
    }
   ],
   "source": [
    "float(1)"
   ]
  },
  {
   "cell_type": "code",
   "execution_count": 64,
   "metadata": {
    "scrolled": false
   },
   "outputs": [
    {
     "name": "stdout",
     "output_type": "stream",
     "text": [
      "[0. 0. 0. 0. 0. 0. 0. 0. 0. 0.]\n",
      "1\n",
      "2\n",
      "3\n",
      "4\n",
      "5\n",
      "6\n",
      "7\n",
      "8\n",
      "9\n",
      "10\n"
     ]
    }
   ],
   "source": [
    "hist_50 = np.zeros(10)\n",
    "print(hist_50)\n",
    "for i in range(1,11):\n",
    "    hist_50[i-1] = np.count_nonzero(Y == i)"
   ]
  },
  {
   "cell_type": "code",
   "execution_count": 65,
   "metadata": {},
   "outputs": [
    {
     "data": {
      "text/plain": [
       "array([ 1.,  3.,  4.,  3.,  4.,  7.,  8.,  5.,  6., 10.])"
      ]
     },
     "execution_count": 65,
     "metadata": {},
     "output_type": "execute_result"
    }
   ],
   "source": [
    "hist_50"
   ]
  },
  {
   "cell_type": "code",
   "execution_count": 40,
   "metadata": {},
   "outputs": [
    {
     "data": {
      "text/plain": [
       "array([[ 1.,  2.,  1.,  2.,  3.,  2.,  1.,  2.,  3.,  4.,  5.,  4.,  3.,\n",
       "         4.,  5.,  6.,  5.,  6.,  7.,  8.,  9., 10.,  9., 10., 10., 10.,\n",
       "        10.,  9., 10.,  9., 10., 10.,  9.,  8.,  9., 10., 10.,  9., 10.,\n",
       "        10.,  9., 10., 10.,  9., 10., 10., 10., 10., 10., 10., 10.]])"
      ]
     },
     "execution_count": 40,
     "metadata": {},
     "output_type": "execute_result"
    }
   ],
   "source": [
    "Y"
   ]
  },
  {
   "cell_type": "code",
   "execution_count": 39,
   "metadata": {},
   "outputs": [
    {
     "data": {
      "text/plain": [
       "3"
      ]
     },
     "execution_count": 39,
     "metadata": {},
     "output_type": "execute_result"
    }
   ],
   "source": [
    "np.count_nonzero(Y == 4)"
   ]
  },
  {
   "cell_type": "code",
   "execution_count": 81,
   "metadata": {},
   "outputs": [
    {
     "name": "stdout",
     "output_type": "stream",
     "text": [
      "--- 1004.5001001358032 seconds ---\n",
      "[[ 1.  1.  2.  3.  2.  3.  4.  5.  6.  5.  6.  7.  6.  7.  8.  9. 10. 10.\n",
      "  10.  9.  8.  9.  8.  9. 10.  9.  8.  9. 10.  9.  8.  9.  8.  9. 10. 10.\n",
      "  10. 10.  9. 10.  9. 10. 10. 10. 10.  9.  8.  7.  8.  9. 10. 10. 10.  9.\n",
      "  10. 10.  9. 10.  9. 10. 10.  9. 10. 10. 10.  9.  8.  9. 10.  9. 10. 10.\n",
      "  10.  9. 10. 10. 10.  9. 10. 10. 10. 10.  9. 10.  9. 10. 10. 10. 10. 10.\n",
      "  10.  9. 10. 10. 10. 10. 10. 10. 10. 10. 10. 10.  9.  8.  9. 10.  9. 10.\n",
      "  10. 10.  9.  8.  7.  8.  7.  8.  9. 10. 10.  9. 10. 10.  9. 10.  9.  8.\n",
      "   9. 10. 10.  9. 10. 10. 10. 10. 10.  9.  8.  9. 10. 10.  9. 10. 10.  9.\n",
      "  10. 10. 10.  9.  8.  7.  6.  7.  8.  7.  8.  7.  8.  9. 10. 10. 10. 10.\n",
      "   9. 10. 10. 10.  9.  8.  9.  8.  9.  8.  9. 10.  9. 10.  9. 10.  9. 10.\n",
      "   9.  8.  7.  8.  9. 10. 10. 10.  9.  8.  7.  8.  9. 10. 10. 10. 10.  9.\n",
      "  10. 10. 10. 10.  9. 10. 10.  9. 10. 10.  9. 10. 10. 10. 10.  9. 10. 10.\n",
      "  10. 10.  9.  8.  9.  8.  9. 10.  9.  8.  9.  8.  9.  8.  7.  6.  7.  8.\n",
      "   7.  8.  9. 10.  9. 10. 10.  9. 10. 10.  9. 10. 10.  9. 10.  9.  8.  7.\n",
      "   8.  9. 10. 10. 10. 10.  9.  8.  7.  8.  7.  8.  9. 10. 10. 10. 10.  9.\n",
      "  10.  9. 10. 10.  9. 10. 10. 10. 10. 10. 10. 10. 10. 10. 10. 10. 10. 10.\n",
      "  10. 10. 10. 10.  9.  8.  9. 10. 10. 10.  9.  8.  9. 10. 10. 10. 10. 10.\n",
      "   9. 10. 10. 10. 10. 10. 10. 10. 10.  9. 10. 10. 10.  9. 10.  9.  8.  7.\n",
      "   8.  9. 10.  9.  8.  9. 10. 10. 10.  9. 10. 10. 10.  9.  8.  9. 10. 10.\n",
      "  10.  9. 10. 10.  9. 10. 10.  9. 10. 10. 10. 10. 10. 10. 10. 10.  9. 10.\n",
      "   9. 10.  9.  8.  9. 10. 10. 10.  9.  8.  9.  8.  9. 10. 10. 10.  9. 10.\n",
      "  10. 10. 10. 10. 10. 10. 10.  9. 10.  9.  8.  9. 10.  9. 10. 10. 10. 10.\n",
      "  10. 10. 10.  9. 10.  9. 10. 10. 10.  9. 10. 10. 10. 10.  9.  8.  9. 10.\n",
      "  10. 10. 10.  9. 10. 10. 10. 10. 10. 10.  9. 10. 10. 10. 10. 10.  9. 10.\n",
      "  10.  9. 10.  9. 10. 10. 10. 10. 10. 10.  9. 10. 10.  9. 10.  9. 10. 10.\n",
      "   9. 10. 10. 10. 10. 10.  9. 10. 10.  9.  8.  7.  8.  9.  8.  9. 10. 10.\n",
      "   9.  8.  7.  6.  5.  6.  7.  6.  7.  8.  9. 10. 10. 10. 10.  9. 10.  9.\n",
      "  10. 10. 10. 10. 10. 10.  9.  8.  9. 10.  9.  8.  9. 10. 10.]]\n"
     ]
    }
   ],
   "source": [
    "#parameters \n",
    "p = 0.7\n",
    "q = 1 - p\n",
    "L = 10\n",
    "\n",
    "N_sim = 1\n",
    "tmax = 500\n",
    "init = 1\n",
    "\n",
    "Y = np.ones((N_sim, tmax+1))*init\n",
    "for i in range(0, N_sim):\n",
    "    t = 0\n",
    "    while t < tmax:\n",
    "        r = np.random.rand()\n",
    "        if r<p:\n",
    "            x = math.ceil((L-Y[i,t])/L)\n",
    "        else:\n",
    "            x = math.floor((1-Y[i,t])/L)\n",
    "        Y[i, t+1] = Y[i,t] + x\n",
    "\n",
    "#         ax.clear()\n",
    "#         ax.plot(time_plot, Y)\n",
    "        t +=1\n",
    "#         Y.append(sum_x)\n",
    "#         time_plot.append(t)\n",
    "#         fig.canvas.draw()\n",
    "#         plt.xlabel('Time')\n",
    "#         plt.ylabel('state')\n",
    "#         plt.tight_layout()\n",
    "    \n",
    "print(\"--- %s seconds ---\" % (time.time() - start_time))\n",
    "print(Y)\n"
   ]
  },
  {
   "cell_type": "code",
   "execution_count": 80,
   "metadata": {},
   "outputs": [],
   "source": [
    "# hist_500 = np.zeros(10)\n",
    "# print(hist_500)\n",
    "# for i in range(1,11):\n",
    "#     hist_500[i-1] = np.count_nonzero(Y == i)\n",
    "\n",
    "# print(hist_500)"
   ]
  },
  {
   "cell_type": "code",
   "execution_count": 110,
   "metadata": {
    "scrolled": true
   },
   "outputs": [
    {
     "name": "stdout",
     "output_type": "stream",
     "text": [
      "[0.01960784 0.01960784 0.01960784 0.05882353 0.05882353 0.03921569\n",
      " 0.07843137 0.11764706 0.19607843 0.39215686]\n",
      "[0.00598802 0.00199601 0.00199601 0.00199601 0.00998004 0.01596806\n",
      " 0.0239521  0.10179641 0.24550898 0.59081836]\n"
     ]
    },
    {
     "data": {
      "text/plain": [
       "[<matplotlib.lines.Line2D at 0x13453b310>]"
      ]
     },
     "execution_count": 110,
     "metadata": {},
     "output_type": "execute_result"
    },
    {
     "data": {
      "image/png": "[encoded data removed]",
      "text/plain": [
       "<Figure size 1440x576 with 2 Axes>"
      ]
     },
     "metadata": {
      "needs_background": "light"
     },
     "output_type": "display_data"
    }
   ],
   "source": [
    "p = 0.7\n",
    "q = 1-p\n",
    "L = 10\n",
    "i = np.linspace(0,9,10)\n",
    "stat_dist = ((1-(p/q))/(1-(p/q)**L))*(p/q)**i\n",
    "plt.figure(figsize = (20,8))\n",
    "plt.subplot(1,2,1)\n",
    "x = SRW(0.7,10,1,50,1)[0]\n",
    "\n",
    "X = stats.relfreq(x)\n",
    "print(X.frequency)\n",
    "plt.hist(x, density=True, align = 'right')\n",
    "plt.plot(1+i, stat_dist)\n",
    "plt.subplot(1,2,2)\n",
    "y = SRW(0.7,10,1,500,1)[0]\n",
    "Y = stats.relfreq(y)\n",
    "print(Y.frequency)\n",
    "plt.hist(y, density=True, align = 'right')\n",
    "plt.plot(1+i, stat_dist)"
   ]
  },
  {
   "cell_type": "code",
   "execution_count": 106,
   "metadata": {},
   "outputs": [
    {
     "data": {
      "text/plain": [
       "numpy.ndarray"
      ]
     },
     "execution_count": 106,
     "metadata": {},
     "output_type": "execute_result"
    }
   ],
   "source": [
    "type(res.frequency)"
   ]
  },
  {
   "cell_type": "code",
   "execution_count": 102,
   "metadata": {},
   "outputs": [
    {
     "data": {
      "text/plain": [
       "array([ 1.,  2.,  3.,  4.,  5.,  6.,  7.,  8.,  9., 10.])"
      ]
     },
     "execution_count": 102,
     "metadata": {},
     "output_type": "execute_result"
    }
   ],
   "source": [
    "1+ np.linspace(0,9,10)"
   ]
  },
  {
   "cell_type": "code",
   "execution_count": 83,
   "metadata": {},
   "outputs": [
    {
     "ename": "NameError",
     "evalue": "name 'function' is not defined",
     "output_type": "error",
     "traceback": [
      "\u001b[0;31m---------------------------------------------------------------------------\u001b[0m",
      "\u001b[0;31mNameError\u001b[0m                                 Traceback (most recent call last)",
      "\u001b[0;32m<ipython-input-83-b234e4b23273>\u001b[0m in \u001b[0;36m<module>\u001b[0;34m\u001b[0m\n\u001b[0;32m----> 1\u001b[0;31m \u001b[0mfunction\u001b[0m\u001b[0;34m.\u001b[0m\u001b[0mSRW\u001b[0m\u001b[0;34m(\u001b[0m\u001b[0;34m)\u001b[0m\u001b[0;34m\u001b[0m\u001b[0;34m\u001b[0m\u001b[0m\n\u001b[0m",
      "\u001b[0;31mNameError\u001b[0m: name 'function' is not defined"
     ]
    }
   ],
   "source": [
    "function.SRW()"
   ]
  },
  {
   "cell_type": "code",
   "execution_count": null,
   "metadata": {},
   "outputs": [],
   "source": []
  }
 ],
 "metadata": {
  "kernelspec": {
   "display_name": "Python 3",
   "language": "python",
   "name": "python3"
  },
  "language_info": {
   "codemirror_mode": {
    "name": "ipython",
    "version": 3
   },
   "file_extension": ".py",
   "mimetype": "text/x-python",
   "name": "python",
   "nbconvert_exporter": "python",
   "pygments_lexer": "ipython3",
   "version": "3.8.3"
  }
 },
 "nbformat": 4,
 "nbformat_minor": 4
}
